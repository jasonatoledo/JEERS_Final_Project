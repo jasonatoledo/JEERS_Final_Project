{
 "cells": [
  {
   "cell_type": "code",
   "execution_count": 2,
   "metadata": {},
   "outputs": [],
   "source": [
    "# Perform initial import of the needed libraries\n",
    "\n",
    "import numpy as np\n",
    "import pandas as pd\n",
    "from pathlib import Path\n",
    "from collections import Counter\n",
    "import sklearn"
   ]
  },
  {
   "cell_type": "code",
   "execution_count": 3,
   "metadata": {},
   "outputs": [],
   "source": [
    "from sklearn.metrics import balanced_accuracy_score\n",
    "from sklearn.metrics import confusion_matrix\n",
    "from imblearn.metrics import classification_report_imbalanced"
   ]
  },
  {
   "cell_type": "code",
   "execution_count": 11,
   "metadata": {},
   "outputs": [],
   "source": [
    "# Read the CSV and perform basic data cleaning\n",
    "file_path = Path('./Resources/fights&fighters_export.csv')\n",
    "fnf_df = pd.read_csv(file_path)[:-2]\n"
   ]
  },
  {
   "cell_type": "code",
   "execution_count": 12,
   "metadata": {},
   "outputs": [
    {
     "data": {
      "text/plain": [
       "Index(['fight_id', 'winner', 'title_bout', 'weight_class', 'no_of_rounds',\n",
       "       'r_fighter', 'r_fighter_id', 'r_fighter_stance', 'b_fighter',\n",
       "       'b_fighter_id', 'b_fighter_stance', 'date', 'referee', 'referee_id'],\n",
       "      dtype='object')"
      ]
     },
     "execution_count": 12,
     "metadata": {},
     "output_type": "execute_result"
    }
   ],
   "source": [
    "fnf_df.columns"
   ]
  },
  {
   "cell_type": "code",
   "execution_count": 18,
   "metadata": {},
   "outputs": [],
   "source": [
    "columns = (['fight_id', 'winner', 'title_bout', 'weight_class', 'no_of_rounds',\n",
    "       'r_fighter', 'r_fighter_stance', 'b_fighter', 'b_fighter_stance', 'referee'])\n",
    "\n",
    "target = [\"winner\"]"
   ]
  },
  {
   "cell_type": "code",
   "execution_count": 19,
   "metadata": {},
   "outputs": [],
   "source": [
    "fnf_df = fnf_df.loc[:, columns].copy()"
   ]
  },
  {
   "cell_type": "code",
   "execution_count": 20,
   "metadata": {},
   "outputs": [
    {
     "data": {
      "text/html": [
       "<div>\n",
       "<style scoped>\n",
       "    .dataframe tbody tr th:only-of-type {\n",
       "        vertical-align: middle;\n",
       "    }\n",
       "\n",
       "    .dataframe tbody tr th {\n",
       "        vertical-align: top;\n",
       "    }\n",
       "\n",
       "    .dataframe thead th {\n",
       "        text-align: right;\n",
       "    }\n",
       "</style>\n",
       "<table border=\"1\" class=\"dataframe\">\n",
       "  <thead>\n",
       "    <tr style=\"text-align: right;\">\n",
       "      <th></th>\n",
       "      <th>fight_id</th>\n",
       "      <th>winner</th>\n",
       "      <th>title_bout</th>\n",
       "      <th>weight_class</th>\n",
       "      <th>no_of_rounds</th>\n",
       "      <th>r_fighter</th>\n",
       "      <th>r_fighter_stance</th>\n",
       "      <th>b_fighter</th>\n",
       "      <th>b_fighter_stance</th>\n",
       "      <th>referee</th>\n",
       "    </tr>\n",
       "  </thead>\n",
       "  <tbody>\n",
       "    <tr>\n",
       "      <th>0</th>\n",
       "      <td>FT1</td>\n",
       "      <td>Red</td>\n",
       "      <td>TRUE</td>\n",
       "      <td>Catch Weight</td>\n",
       "      <td>1</td>\n",
       "      <td>Royce Gracie</td>\n",
       "      <td>Southpaw</td>\n",
       "      <td>Gerard Gordeau</td>\n",
       "      <td>Orthodox</td>\n",
       "      <td>Joao Alberto Barreto</td>\n",
       "    </tr>\n",
       "    <tr>\n",
       "      <th>1</th>\n",
       "      <td>FT2</td>\n",
       "      <td>Red</td>\n",
       "      <td>FALSE</td>\n",
       "      <td>Open Weight</td>\n",
       "      <td>1</td>\n",
       "      <td>Jason DeLucia</td>\n",
       "      <td>Southpaw</td>\n",
       "      <td>Trent Jenkins</td>\n",
       "      <td>NaN</td>\n",
       "      <td>Joao Alberto Barreto</td>\n",
       "    </tr>\n",
       "    <tr>\n",
       "      <th>2</th>\n",
       "      <td>FT3</td>\n",
       "      <td>Red</td>\n",
       "      <td>FALSE</td>\n",
       "      <td>Open Weight</td>\n",
       "      <td>1</td>\n",
       "      <td>Royce Gracie</td>\n",
       "      <td>Southpaw</td>\n",
       "      <td>Ken Shamrock</td>\n",
       "      <td>Orthodox</td>\n",
       "      <td>Joao Alberto Barreto</td>\n",
       "    </tr>\n",
       "    <tr>\n",
       "      <th>3</th>\n",
       "      <td>FT4</td>\n",
       "      <td>Red</td>\n",
       "      <td>FALSE</td>\n",
       "      <td>Open Weight</td>\n",
       "      <td>1</td>\n",
       "      <td>Gerard Gordeau</td>\n",
       "      <td>Orthodox</td>\n",
       "      <td>Kevin Rosier</td>\n",
       "      <td>Orthodox</td>\n",
       "      <td>Joao Alberto Barreto</td>\n",
       "    </tr>\n",
       "    <tr>\n",
       "      <th>4</th>\n",
       "      <td>FT5</td>\n",
       "      <td>Red</td>\n",
       "      <td>FALSE</td>\n",
       "      <td>Open Weight</td>\n",
       "      <td>1</td>\n",
       "      <td>Ken Shamrock</td>\n",
       "      <td>Orthodox</td>\n",
       "      <td>Patrick Smith</td>\n",
       "      <td>Orthodox</td>\n",
       "      <td>Joao Alberto Barreto</td>\n",
       "    </tr>\n",
       "    <tr>\n",
       "      <th>...</th>\n",
       "      <td>...</td>\n",
       "      <td>...</td>\n",
       "      <td>...</td>\n",
       "      <td>...</td>\n",
       "      <td>...</td>\n",
       "      <td>...</td>\n",
       "      <td>...</td>\n",
       "      <td>...</td>\n",
       "      <td>...</td>\n",
       "      <td>...</td>\n",
       "    </tr>\n",
       "    <tr>\n",
       "      <th>5137</th>\n",
       "      <td>FT5138</td>\n",
       "      <td>Red</td>\n",
       "      <td>FALSE</td>\n",
       "      <td>Bantamweight</td>\n",
       "      <td>3</td>\n",
       "      <td>Aljamain Sterling</td>\n",
       "      <td>Orthodox</td>\n",
       "      <td>Pedro Munhoz</td>\n",
       "      <td>Orthodox</td>\n",
       "      <td>Marc Goddard</td>\n",
       "    </tr>\n",
       "    <tr>\n",
       "      <th>5138</th>\n",
       "      <td>FT5139</td>\n",
       "      <td>Blue</td>\n",
       "      <td>FALSE</td>\n",
       "      <td>Women's Strawweight</td>\n",
       "      <td>3</td>\n",
       "      <td>Karolina Kowalkiewicz</td>\n",
       "      <td>Orthodox</td>\n",
       "      <td>Alexa Grasso</td>\n",
       "      <td>Orthodox</td>\n",
       "      <td>Kevin MacDonald</td>\n",
       "    </tr>\n",
       "    <tr>\n",
       "      <th>5139</th>\n",
       "      <td>FT5140</td>\n",
       "      <td>Blue</td>\n",
       "      <td>FALSE</td>\n",
       "      <td>Featherweight</td>\n",
       "      <td>3</td>\n",
       "      <td>Ricardo Lamas</td>\n",
       "      <td>Orthodox</td>\n",
       "      <td>Calvin Kattar</td>\n",
       "      <td>Orthodox</td>\n",
       "      <td>Dan Miragliotta</td>\n",
       "    </tr>\n",
       "    <tr>\n",
       "      <th>5140</th>\n",
       "      <td>FT5141</td>\n",
       "      <td>Red</td>\n",
       "      <td>FALSE</td>\n",
       "      <td>Women's Strawweight</td>\n",
       "      <td>3</td>\n",
       "      <td>Yan Xiaonan</td>\n",
       "      <td>Orthodox</td>\n",
       "      <td>Angela Hill</td>\n",
       "      <td>Orthodox</td>\n",
       "      <td>Robert Madrigal</td>\n",
       "    </tr>\n",
       "    <tr>\n",
       "      <th>5141</th>\n",
       "      <td>FT5142</td>\n",
       "      <td>Blue</td>\n",
       "      <td>FALSE</td>\n",
       "      <td>Middleweight</td>\n",
       "      <td>3</td>\n",
       "      <td>Bevon Lewis</td>\n",
       "      <td>Orthodox</td>\n",
       "      <td>Darren Stewart</td>\n",
       "      <td>Orthodox</td>\n",
       "      <td>Marc Goddard</td>\n",
       "    </tr>\n",
       "  </tbody>\n",
       "</table>\n",
       "<p>5142 rows × 10 columns</p>\n",
       "</div>"
      ],
      "text/plain": [
       "     fight_id winner title_bout         weight_class  no_of_rounds  \\\n",
       "0         FT1   Red       TRUE          Catch Weight             1   \n",
       "1         FT2   Red       FALSE          Open Weight             1   \n",
       "2         FT3   Red       FALSE          Open Weight             1   \n",
       "3         FT4   Red       FALSE          Open Weight             1   \n",
       "4         FT5   Red       FALSE          Open Weight             1   \n",
       "...       ...    ...        ...                  ...           ...   \n",
       "5137   FT5138   Red       FALSE         Bantamweight             3   \n",
       "5138   FT5139   Blue      FALSE  Women's Strawweight             3   \n",
       "5139   FT5140   Blue      FALSE        Featherweight             3   \n",
       "5140   FT5141   Red       FALSE  Women's Strawweight             3   \n",
       "5141   FT5142   Blue      FALSE         Middleweight             3   \n",
       "\n",
       "                  r_fighter r_fighter_stance       b_fighter b_fighter_stance  \\\n",
       "0              Royce Gracie         Southpaw  Gerard Gordeau         Orthodox   \n",
       "1             Jason DeLucia         Southpaw   Trent Jenkins              NaN   \n",
       "2              Royce Gracie         Southpaw    Ken Shamrock         Orthodox   \n",
       "3            Gerard Gordeau         Orthodox    Kevin Rosier         Orthodox   \n",
       "4              Ken Shamrock         Orthodox   Patrick Smith         Orthodox   \n",
       "...                     ...              ...             ...              ...   \n",
       "5137      Aljamain Sterling         Orthodox    Pedro Munhoz         Orthodox   \n",
       "5138  Karolina Kowalkiewicz         Orthodox    Alexa Grasso         Orthodox   \n",
       "5139          Ricardo Lamas         Orthodox   Calvin Kattar         Orthodox   \n",
       "5140            Yan Xiaonan         Orthodox     Angela Hill         Orthodox   \n",
       "5141            Bevon Lewis         Orthodox  Darren Stewart         Orthodox   \n",
       "\n",
       "                   referee  \n",
       "0     Joao Alberto Barreto  \n",
       "1     Joao Alberto Barreto  \n",
       "2     Joao Alberto Barreto  \n",
       "3     Joao Alberto Barreto  \n",
       "4     Joao Alberto Barreto  \n",
       "...                    ...  \n",
       "5137          Marc Goddard  \n",
       "5138       Kevin MacDonald  \n",
       "5139       Dan Miragliotta  \n",
       "5140       Robert Madrigal  \n",
       "5141          Marc Goddard  \n",
       "\n",
       "[5142 rows x 10 columns]"
      ]
     },
     "execution_count": 20,
     "metadata": {},
     "output_type": "execute_result"
    }
   ],
   "source": [
    "fnf_df"
   ]
  },
  {
   "cell_type": "code",
   "execution_count": 21,
   "metadata": {},
   "outputs": [
    {
     "data": {
      "text/plain": [
       "fight_id              0\n",
       "winner                0\n",
       "title_bout            0\n",
       "weight_class          0\n",
       "no_of_rounds          0\n",
       "r_fighter             0\n",
       "r_fighter_stance    134\n",
       "b_fighter             0\n",
       "b_fighter_stance    159\n",
       "referee              23\n",
       "dtype: int64"
      ]
     },
     "execution_count": 21,
     "metadata": {},
     "output_type": "execute_result"
    }
   ],
   "source": [
    "fnf_df.isnull().sum()"
   ]
  },
  {
   "cell_type": "code",
   "execution_count": 27,
   "metadata": {},
   "outputs": [],
   "source": [
    "fnf_df['r_fighter_stance'].fillna(\"unlisted\", inplace = True)\n",
    "fnf_df['b_fighter_stance'].fillna(\"unlisted\", inplace = True)\n",
    "fnf_df['referee'].fillna(\"unlisted\", inplace = True)"
   ]
  },
  {
   "cell_type": "code",
   "execution_count": 28,
   "metadata": {},
   "outputs": [
    {
     "data": {
      "text/plain": [
       "fight_id            0\n",
       "winner              0\n",
       "title_bout          0\n",
       "weight_class        0\n",
       "no_of_rounds        0\n",
       "r_fighter           0\n",
       "r_fighter_stance    0\n",
       "b_fighter           0\n",
       "b_fighter_stance    0\n",
       "referee             0\n",
       "dtype: int64"
      ]
     },
     "execution_count": 28,
     "metadata": {},
     "output_type": "execute_result"
    }
   ],
   "source": [
    "fnf_df.isnull().sum()"
   ]
  },
  {
   "cell_type": "code",
   "execution_count": null,
   "metadata": {},
   "outputs": [],
   "source": []
  }
 ],
 "metadata": {
  "kernelspec": {
   "display_name": "mlenv",
   "language": "python",
   "name": "mlenv"
  },
  "language_info": {
   "codemirror_mode": {
    "name": "ipython",
    "version": 3
   },
   "file_extension": ".py",
   "mimetype": "text/x-python",
   "name": "python",
   "nbconvert_exporter": "python",
   "pygments_lexer": "ipython3",
   "version": "3.7.9"
  }
 },
 "nbformat": 4,
 "nbformat_minor": 4
}
