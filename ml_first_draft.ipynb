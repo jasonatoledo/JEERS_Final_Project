{
 "cells": [
  {
   "cell_type": "code",
   "execution_count": 1,
   "metadata": {},
   "outputs": [],
   "source": [
    "# Perform initial import of the needed libraries\n",
    "\n",
    "import numpy as np\n",
    "import pandas as pd\n",
    "from pathlib import Path\n",
    "from collections import Counter\n",
    "import sklearn\n",
    "from sklearn.preprocessing import StandardScaler,OneHotEncoder\n",
    "from IPython.display import display"
   ]
  },
  {
   "cell_type": "code",
   "execution_count": 2,
   "metadata": {},
   "outputs": [],
   "source": [
    "from sklearn.metrics import balanced_accuracy_score\n",
    "from sklearn.metrics import confusion_matrix\n",
    "from imblearn.metrics import classification_report_imbalanced\n",
    "from sklearn.model_selection import train_test_split"
   ]
  },
  {
   "cell_type": "code",
   "execution_count": 3,
   "metadata": {},
   "outputs": [],
   "source": [
    "# Read the CSV and perform basic data cleaning\n",
    "file_path = Path('./Resources/fighters+fights_export.csv')\n",
    "fnf_df = pd.read_csv(file_path)[:-2]"
   ]
  },
  {
   "cell_type": "code",
   "execution_count": 4,
   "metadata": {},
   "outputs": [
    {
     "data": {
      "text/plain": [
       "Index(['fight_id', 'winner', 'title_bout', 'weight_class', 'no_of_rounds',\n",
       "       'r_fighter', 'r_fighter_id', 'r_fighter_stance', 'b_fighter',\n",
       "       'b_fighter_id', 'b_fighter_stance', 'date', 'referee', 'referee_id',\n",
       "       'b_fighter_height', 'r_fighter_height', 'b_fighter_reach',\n",
       "       'r_fighter_reach', 'b_fighter_weight', 'r_fighter_weight'],\n",
       "      dtype='object')"
      ]
     },
     "execution_count": 4,
     "metadata": {},
     "output_type": "execute_result"
    }
   ],
   "source": [
    "fnf_df.columns"
   ]
  },
  {
   "cell_type": "code",
   "execution_count": null,
   "metadata": {},
   "outputs": [],
   "source": [
    "columns = (['winner', 'title_bout', 'weight_class', 'no_of_rounds', 'r_fighter_stance', 'b_fighter_stance', 'b_fighter_height', 'r_fighter_height', 'b_fighter_reach',\n",
    "       'r_fighter_reach', 'b_fighter_weight', 'r_fighter_weight'])\n",
    "\n",
    "target = [\"winner\"]"
   ]
  },
  {
   "cell_type": "code",
   "execution_count": null,
   "metadata": {},
   "outputs": [],
   "source": [
    "fnf_df = fnf_df.loc[:, columns].copy()"
   ]
  },
  {
   "cell_type": "code",
   "execution_count": 5,
   "metadata": {},
   "outputs": [
    {
     "data": {
      "text/html": [
       "<div>\n",
       "<style scoped>\n",
       "    .dataframe tbody tr th:only-of-type {\n",
       "        vertical-align: middle;\n",
       "    }\n",
       "\n",
       "    .dataframe tbody tr th {\n",
       "        vertical-align: top;\n",
       "    }\n",
       "\n",
       "    .dataframe thead th {\n",
       "        text-align: right;\n",
       "    }\n",
       "</style>\n",
       "<table border=\"1\" class=\"dataframe\">\n",
       "  <thead>\n",
       "    <tr style=\"text-align: right;\">\n",
       "      <th></th>\n",
       "      <th>fight_id</th>\n",
       "      <th>winner</th>\n",
       "      <th>title_bout</th>\n",
       "      <th>weight_class</th>\n",
       "      <th>no_of_rounds</th>\n",
       "      <th>r_fighter</th>\n",
       "      <th>r_fighter_id</th>\n",
       "      <th>r_fighter_stance</th>\n",
       "      <th>b_fighter</th>\n",
       "      <th>b_fighter_id</th>\n",
       "      <th>b_fighter_stance</th>\n",
       "      <th>date</th>\n",
       "      <th>referee</th>\n",
       "      <th>referee_id</th>\n",
       "      <th>b_fighter_height</th>\n",
       "      <th>r_fighter_height</th>\n",
       "      <th>b_fighter_reach</th>\n",
       "      <th>r_fighter_reach</th>\n",
       "      <th>b_fighter_weight</th>\n",
       "      <th>r_fighter_weight</th>\n",
       "    </tr>\n",
       "  </thead>\n",
       "  <tbody>\n",
       "    <tr>\n",
       "      <th>0</th>\n",
       "      <td>FT1</td>\n",
       "      <td>Red</td>\n",
       "      <td>TRUE</td>\n",
       "      <td>Catch Weight</td>\n",
       "      <td>1</td>\n",
       "      <td>Royce Gracie</td>\n",
       "      <td>1</td>\n",
       "      <td>Southpaw</td>\n",
       "      <td>Gerard Gordeau</td>\n",
       "      <td>3</td>\n",
       "      <td>Orthodox</td>\n",
       "      <td>11/12/1993</td>\n",
       "      <td>Joao Alberto Barreto</td>\n",
       "      <td>r1</td>\n",
       "      <td>195.58</td>\n",
       "      <td>185.42</td>\n",
       "      <td>NaN</td>\n",
       "      <td>NaN</td>\n",
       "      <td>216.0</td>\n",
       "      <td>175.0</td>\n",
       "    </tr>\n",
       "    <tr>\n",
       "      <th>1</th>\n",
       "      <td>FT3</td>\n",
       "      <td>Red</td>\n",
       "      <td>FALSE</td>\n",
       "      <td>Open Weight</td>\n",
       "      <td>1</td>\n",
       "      <td>Royce Gracie</td>\n",
       "      <td>1</td>\n",
       "      <td>Southpaw</td>\n",
       "      <td>Ken Shamrock</td>\n",
       "      <td>4</td>\n",
       "      <td>Orthodox</td>\n",
       "      <td>11/12/1993</td>\n",
       "      <td>Joao Alberto Barreto</td>\n",
       "      <td>r1</td>\n",
       "      <td>185.42</td>\n",
       "      <td>185.42</td>\n",
       "      <td>182.88</td>\n",
       "      <td>NaN</td>\n",
       "      <td>205.0</td>\n",
       "      <td>175.0</td>\n",
       "    </tr>\n",
       "    <tr>\n",
       "      <th>2</th>\n",
       "      <td>FT6</td>\n",
       "      <td>Red</td>\n",
       "      <td>FALSE</td>\n",
       "      <td>Open Weight</td>\n",
       "      <td>1</td>\n",
       "      <td>Royce Gracie</td>\n",
       "      <td>1</td>\n",
       "      <td>Southpaw</td>\n",
       "      <td>Art Jimmerson</td>\n",
       "      <td>8</td>\n",
       "      <td>Orthodox</td>\n",
       "      <td>11/12/1993</td>\n",
       "      <td>Joao Alberto Barreto</td>\n",
       "      <td>r1</td>\n",
       "      <td>185.42</td>\n",
       "      <td>185.42</td>\n",
       "      <td>NaN</td>\n",
       "      <td>NaN</td>\n",
       "      <td>196.0</td>\n",
       "      <td>175.0</td>\n",
       "    </tr>\n",
       "    <tr>\n",
       "      <th>3</th>\n",
       "      <td>FT2</td>\n",
       "      <td>Red</td>\n",
       "      <td>FALSE</td>\n",
       "      <td>Open Weight</td>\n",
       "      <td>1</td>\n",
       "      <td>Jason DeLucia</td>\n",
       "      <td>2</td>\n",
       "      <td>Southpaw</td>\n",
       "      <td>Trent Jenkins</td>\n",
       "      <td>6</td>\n",
       "      <td>NaN</td>\n",
       "      <td>11/12/1993</td>\n",
       "      <td>Joao Alberto Barreto</td>\n",
       "      <td>r1</td>\n",
       "      <td>187.96</td>\n",
       "      <td>180.34</td>\n",
       "      <td>NaN</td>\n",
       "      <td>NaN</td>\n",
       "      <td>185.0</td>\n",
       "      <td>190.0</td>\n",
       "    </tr>\n",
       "    <tr>\n",
       "      <th>4</th>\n",
       "      <td>FT4</td>\n",
       "      <td>Red</td>\n",
       "      <td>FALSE</td>\n",
       "      <td>Open Weight</td>\n",
       "      <td>1</td>\n",
       "      <td>Gerard Gordeau</td>\n",
       "      <td>3</td>\n",
       "      <td>Orthodox</td>\n",
       "      <td>Kevin Rosier</td>\n",
       "      <td>5</td>\n",
       "      <td>Orthodox</td>\n",
       "      <td>11/12/1993</td>\n",
       "      <td>Joao Alberto Barreto</td>\n",
       "      <td>r1</td>\n",
       "      <td>193.04</td>\n",
       "      <td>195.58</td>\n",
       "      <td>NaN</td>\n",
       "      <td>NaN</td>\n",
       "      <td>275.0</td>\n",
       "      <td>216.0</td>\n",
       "    </tr>\n",
       "    <tr>\n",
       "      <th>...</th>\n",
       "      <td>...</td>\n",
       "      <td>...</td>\n",
       "      <td>...</td>\n",
       "      <td>...</td>\n",
       "      <td>...</td>\n",
       "      <td>...</td>\n",
       "      <td>...</td>\n",
       "      <td>...</td>\n",
       "      <td>...</td>\n",
       "      <td>...</td>\n",
       "      <td>...</td>\n",
       "      <td>...</td>\n",
       "      <td>...</td>\n",
       "      <td>...</td>\n",
       "      <td>...</td>\n",
       "      <td>...</td>\n",
       "      <td>...</td>\n",
       "      <td>...</td>\n",
       "      <td>...</td>\n",
       "      <td>...</td>\n",
       "    </tr>\n",
       "    <tr>\n",
       "      <th>5137</th>\n",
       "      <td>FT5139</td>\n",
       "      <td>Blue</td>\n",
       "      <td>FALSE</td>\n",
       "      <td>Women's Strawweight</td>\n",
       "      <td>3</td>\n",
       "      <td>Karolina Kowalkiewicz</td>\n",
       "      <td>1491</td>\n",
       "      <td>Orthodox</td>\n",
       "      <td>Alexa Grasso</td>\n",
       "      <td>1583</td>\n",
       "      <td>Orthodox</td>\n",
       "      <td>6/8/2019</td>\n",
       "      <td>Kevin MacDonald</td>\n",
       "      <td>r73</td>\n",
       "      <td>165.10</td>\n",
       "      <td>160.02</td>\n",
       "      <td>167.64</td>\n",
       "      <td>162.56</td>\n",
       "      <td>115.0</td>\n",
       "      <td>115.0</td>\n",
       "    </tr>\n",
       "    <tr>\n",
       "      <th>5138</th>\n",
       "      <td>FT5133</td>\n",
       "      <td>Red</td>\n",
       "      <td>TRUE</td>\n",
       "      <td>Women's Flyweight</td>\n",
       "      <td>5</td>\n",
       "      <td>Valentina Shevchenko</td>\n",
       "      <td>1492</td>\n",
       "      <td>Southpaw</td>\n",
       "      <td>Jessica Eye</td>\n",
       "      <td>1123</td>\n",
       "      <td>Orthodox</td>\n",
       "      <td>6/8/2019</td>\n",
       "      <td>Robert Madrigal</td>\n",
       "      <td>r82</td>\n",
       "      <td>167.64</td>\n",
       "      <td>165.10</td>\n",
       "      <td>167.64</td>\n",
       "      <td>167.64</td>\n",
       "      <td>125.0</td>\n",
       "      <td>125.0</td>\n",
       "    </tr>\n",
       "    <tr>\n",
       "      <th>5139</th>\n",
       "      <td>FT5137</td>\n",
       "      <td>Red</td>\n",
       "      <td>FALSE</td>\n",
       "      <td>Women's Strawweight</td>\n",
       "      <td>3</td>\n",
       "      <td>Tatiana Suarez</td>\n",
       "      <td>1537</td>\n",
       "      <td>NaN</td>\n",
       "      <td>Nina Ansaroff</td>\n",
       "      <td>1344</td>\n",
       "      <td>Orthodox</td>\n",
       "      <td>6/8/2019</td>\n",
       "      <td>Robert Madrigal</td>\n",
       "      <td>r82</td>\n",
       "      <td>165.10</td>\n",
       "      <td>165.10</td>\n",
       "      <td>162.56</td>\n",
       "      <td>167.64</td>\n",
       "      <td>115.0</td>\n",
       "      <td>115.0</td>\n",
       "    </tr>\n",
       "    <tr>\n",
       "      <th>5140</th>\n",
       "      <td>FT5144</td>\n",
       "      <td>Red</td>\n",
       "      <td>FALSE</td>\n",
       "      <td>Women's Flyweight</td>\n",
       "      <td>3</td>\n",
       "      <td>Katlyn Chookagian</td>\n",
       "      <td>1546</td>\n",
       "      <td>Orthodox</td>\n",
       "      <td>Joanne Calderwood</td>\n",
       "      <td>1368</td>\n",
       "      <td>Orthodox</td>\n",
       "      <td>6/8/2019</td>\n",
       "      <td>Dan Miragliotta</td>\n",
       "      <td>r25</td>\n",
       "      <td>167.64</td>\n",
       "      <td>175.26</td>\n",
       "      <td>165.10</td>\n",
       "      <td>172.72</td>\n",
       "      <td>125.0</td>\n",
       "      <td>125.0</td>\n",
       "    </tr>\n",
       "    <tr>\n",
       "      <th>5141</th>\n",
       "      <td>FT5136</td>\n",
       "      <td>Blue</td>\n",
       "      <td>FALSE</td>\n",
       "      <td>Heavyweight</td>\n",
       "      <td>3</td>\n",
       "      <td>Tai Tuivasa</td>\n",
       "      <td>1697</td>\n",
       "      <td>Southpaw</td>\n",
       "      <td>Blagoy Ivanov</td>\n",
       "      <td>1784</td>\n",
       "      <td>Southpaw</td>\n",
       "      <td>6/8/2019</td>\n",
       "      <td>Dan Miragliotta</td>\n",
       "      <td>r25</td>\n",
       "      <td>180.34</td>\n",
       "      <td>187.96</td>\n",
       "      <td>185.42</td>\n",
       "      <td>190.50</td>\n",
       "      <td>250.0</td>\n",
       "      <td>264.0</td>\n",
       "    </tr>\n",
       "  </tbody>\n",
       "</table>\n",
       "<p>5142 rows × 20 columns</p>\n",
       "</div>"
      ],
      "text/plain": [
       "     fight_id winner title_bout         weight_class  no_of_rounds  \\\n",
       "0         FT1   Red       TRUE          Catch Weight             1   \n",
       "1         FT3   Red       FALSE          Open Weight             1   \n",
       "2         FT6   Red       FALSE          Open Weight             1   \n",
       "3         FT2   Red       FALSE          Open Weight             1   \n",
       "4         FT4   Red       FALSE          Open Weight             1   \n",
       "...       ...    ...        ...                  ...           ...   \n",
       "5137   FT5139   Blue      FALSE  Women's Strawweight             3   \n",
       "5138   FT5133   Red       TRUE     Women's Flyweight             5   \n",
       "5139   FT5137   Red       FALSE  Women's Strawweight             3   \n",
       "5140   FT5144   Red       FALSE    Women's Flyweight             3   \n",
       "5141   FT5136   Blue      FALSE          Heavyweight             3   \n",
       "\n",
       "                  r_fighter  r_fighter_id r_fighter_stance          b_fighter  \\\n",
       "0              Royce Gracie             1         Southpaw     Gerard Gordeau   \n",
       "1              Royce Gracie             1         Southpaw       Ken Shamrock   \n",
       "2              Royce Gracie             1         Southpaw      Art Jimmerson   \n",
       "3             Jason DeLucia             2         Southpaw      Trent Jenkins   \n",
       "4            Gerard Gordeau             3         Orthodox       Kevin Rosier   \n",
       "...                     ...           ...              ...                ...   \n",
       "5137  Karolina Kowalkiewicz          1491         Orthodox       Alexa Grasso   \n",
       "5138   Valentina Shevchenko          1492         Southpaw        Jessica Eye   \n",
       "5139         Tatiana Suarez          1537              NaN      Nina Ansaroff   \n",
       "5140      Katlyn Chookagian          1546         Orthodox  Joanne Calderwood   \n",
       "5141            Tai Tuivasa          1697         Southpaw      Blagoy Ivanov   \n",
       "\n",
       "      b_fighter_id b_fighter_stance        date               referee  \\\n",
       "0                3         Orthodox  11/12/1993  Joao Alberto Barreto   \n",
       "1                4         Orthodox  11/12/1993  Joao Alberto Barreto   \n",
       "2                8         Orthodox  11/12/1993  Joao Alberto Barreto   \n",
       "3                6              NaN  11/12/1993  Joao Alberto Barreto   \n",
       "4                5         Orthodox  11/12/1993  Joao Alberto Barreto   \n",
       "...            ...              ...         ...                   ...   \n",
       "5137          1583         Orthodox    6/8/2019       Kevin MacDonald   \n",
       "5138          1123         Orthodox    6/8/2019       Robert Madrigal   \n",
       "5139          1344         Orthodox    6/8/2019       Robert Madrigal   \n",
       "5140          1368         Orthodox    6/8/2019       Dan Miragliotta   \n",
       "5141          1784         Southpaw    6/8/2019       Dan Miragliotta   \n",
       "\n",
       "     referee_id  b_fighter_height  r_fighter_height  b_fighter_reach  \\\n",
       "0            r1            195.58            185.42              NaN   \n",
       "1            r1            185.42            185.42           182.88   \n",
       "2            r1            185.42            185.42              NaN   \n",
       "3            r1            187.96            180.34              NaN   \n",
       "4            r1            193.04            195.58              NaN   \n",
       "...         ...               ...               ...              ...   \n",
       "5137        r73            165.10            160.02           167.64   \n",
       "5138        r82            167.64            165.10           167.64   \n",
       "5139        r82            165.10            165.10           162.56   \n",
       "5140        r25            167.64            175.26           165.10   \n",
       "5141        r25            180.34            187.96           185.42   \n",
       "\n",
       "      r_fighter_reach  b_fighter_weight  r_fighter_weight  \n",
       "0                 NaN             216.0             175.0  \n",
       "1                 NaN             205.0             175.0  \n",
       "2                 NaN             196.0             175.0  \n",
       "3                 NaN             185.0             190.0  \n",
       "4                 NaN             275.0             216.0  \n",
       "...               ...               ...               ...  \n",
       "5137           162.56             115.0             115.0  \n",
       "5138           167.64             125.0             125.0  \n",
       "5139           167.64             115.0             115.0  \n",
       "5140           172.72             125.0             125.0  \n",
       "5141           190.50             250.0             264.0  \n",
       "\n",
       "[5142 rows x 20 columns]"
      ]
     },
     "execution_count": 5,
     "metadata": {},
     "output_type": "execute_result"
    }
   ],
   "source": [
    "fnf_df"
   ]
  },
  {
   "cell_type": "code",
   "execution_count": null,
   "metadata": {},
   "outputs": [],
   "source": [
    "fnf_df.isnull().sum()"
   ]
  },
  {
   "cell_type": "code",
   "execution_count": null,
   "metadata": {},
   "outputs": [],
   "source": [
    "fnf_df['r_fighter_stance'].fillna(\"unlisted\", inplace = True)\n",
    "fnf_df['b_fighter_stance'].fillna(\"unlisted\", inplace = True)\n",
    "fnf_df['r_fighter_height'].fillna(value=fnf_df['r_fighter_height'].mean(), inplace = True)\n",
    "fnf_df['b_fighter_height'].fillna(value=fnf_df['b_fighter_height'].mean(), inplace = True)\n",
    "fnf_df['b_fighter_reach'].fillna(value=fnf_df['b_fighter_reach'].mean(), inplace = True)\n",
    "fnf_df['r_fighter_reach'].fillna(value=fnf_df['r_fighter_reach'].mean(), inplace = True)\n",
    "fnf_df['b_fighter_weight'].fillna(value=fnf_df['b_fighter_weight'].mean(), inplace = True)\n",
    "fnf_df['r_fighter_weight'].fillna(value=fnf_df['r_fighter_weight'].mean(), inplace = True)"
   ]
  },
  {
   "cell_type": "code",
   "execution_count": null,
   "metadata": {},
   "outputs": [],
   "source": [
    "fnf_df.isnull().sum()"
   ]
  },
  {
   "cell_type": "code",
   "execution_count": null,
   "metadata": {},
   "outputs": [],
   "source": [
    "fnf_df"
   ]
  },
  {
   "cell_type": "code",
   "execution_count": null,
   "metadata": {},
   "outputs": [],
   "source": [
    "fnf_df.dtypes"
   ]
  },
  {
   "cell_type": "code",
   "execution_count": null,
   "metadata": {},
   "outputs": [],
   "source": [
    "# Generate our categorical variable lists\n",
    "app_cat = fnf_df.dtypes[fnf_df.dtypes == \"object\"].index.tolist()"
   ]
  },
  {
   "cell_type": "code",
   "execution_count": null,
   "metadata": {},
   "outputs": [],
   "source": [
    "app_cat = [\n",
    " 'title_bout',\n",
    " 'weight_class',\n",
    " 'r_fighter_stance',\n",
    " 'b_fighter_stance']"
   ]
  },
  {
   "cell_type": "code",
   "execution_count": null,
   "metadata": {},
   "outputs": [],
   "source": [
    "# Create a OneHotEncoder instance\n",
    "enc = OneHotEncoder(sparse=False)\n",
    "\n",
    "# Fit and transform the OneHotEncoder using the categorical variable list\n",
    "encode_df = pd.DataFrame(enc.fit_transform(fnf_df[app_cat]))\n",
    "\n",
    "# Add the encoded variable names to the dataframe\n",
    "encode_df.columns = enc.get_feature_names(app_cat)\n",
    "encode_df.head()"
   ]
  },
  {
   "cell_type": "code",
   "execution_count": null,
   "metadata": {},
   "outputs": [],
   "source": [
    "pd.options.display.max_columns = None\n",
    "display(encode_df)"
   ]
  },
  {
   "cell_type": "code",
   "execution_count": null,
   "metadata": {},
   "outputs": [],
   "source": [
    "fnf_df"
   ]
  },
  {
   "cell_type": "code",
   "execution_count": null,
   "metadata": {},
   "outputs": [],
   "source": [
    "encode_df.columns"
   ]
  },
  {
   "cell_type": "code",
   "execution_count": null,
   "metadata": {},
   "outputs": [],
   "source": [
    "fnf_df_num = pd.concat([fnf_df,encode_df],axis=1)"
   ]
  },
  {
   "cell_type": "code",
   "execution_count": null,
   "metadata": {
    "scrolled": true
   },
   "outputs": [],
   "source": [
    "fnf_df_num"
   ]
  },
  {
   "cell_type": "code",
   "execution_count": null,
   "metadata": {},
   "outputs": [],
   "source": [
    "fnf_df_num_2 = fnf_df_num.copy()"
   ]
  },
  {
   "cell_type": "code",
   "execution_count": null,
   "metadata": {},
   "outputs": [],
   "source": [
    "fnf_df_num_2 = fnf_df_num_2.replace(to_replace =\"Red \", value = 1.0)\n",
    "fnf_df_num_2 = fnf_df_num_2.replace(to_replace =\"Blue\", value = 2.0)\n",
    "fnf_df_num_2 = fnf_df_num_2.replace(to_replace =\"Draw\", value = 3.0)\n",
    "\n",
    "fnf_df_num_2.head(40)"
   ]
  },
  {
   "cell_type": "code",
   "execution_count": null,
   "metadata": {},
   "outputs": [],
   "source": [
    "fnf_df_num_2.drop(['title_bout', 'weight_class', 'r_fighter_stance', 'b_fighter_stance'], axis = 1 , inplace = True)\n",
    "fnf_df_num_2"
   ]
  },
  {
   "cell_type": "code",
   "execution_count": null,
   "metadata": {},
   "outputs": [],
   "source": [
    "fnf_df_num_2.dtypes"
   ]
  },
  {
   "cell_type": "code",
   "execution_count": null,
   "metadata": {},
   "outputs": [],
   "source": []
  },
  {
   "cell_type": "code",
   "execution_count": null,
   "metadata": {},
   "outputs": [],
   "source": [
    "# Preprocess data, split the data into Training and Testing\n",
    "    # Create feature set \n",
    "X = fnf_df_num_2.copy()\n",
    "X = X.drop(columns='winner', axis=1)\n",
    "X"
   ]
  },
  {
   "cell_type": "code",
   "execution_count": null,
   "metadata": {},
   "outputs": [],
   "source": [
    "# Create target\n",
    "y = fnf_df_num_2[\"winner\"]\n",
    "y"
   ]
  },
  {
   "cell_type": "code",
   "execution_count": null,
   "metadata": {},
   "outputs": [],
   "source": [
    "# Check the balance of our target values\n",
    "y.value_counts()"
   ]
  },
  {
   "cell_type": "code",
   "execution_count": null,
   "metadata": {},
   "outputs": [],
   "source": [
    "# Split into Train and Test sets. \n",
    "x_Train, x_Test, y_Train, y_Test = train_test_split(X, y, test_size = 0.2, random_state = 0)"
   ]
  },
  {
   "cell_type": "code",
   "execution_count": null,
   "metadata": {},
   "outputs": [],
   "source": [
    "# Determine the shape of our training and testing sets.\n",
    "print(X_train.shape)\n",
    "print(X_test.shape)\n",
    "print(y_train.shape)\n",
    "print(y_test.shape)"
   ]
  },
  {
   "cell_type": "code",
   "execution_count": null,
   "metadata": {},
   "outputs": [],
   "source": [
    "# Create a StandardScaler instance. \n",
    "scaler = StandardScaler()"
   ]
  },
  {
   "cell_type": "code",
   "execution_count": null,
   "metadata": {},
   "outputs": [],
   "source": [
    "# Fit the Standard Scaler with the training data. \n",
    "X_scaler = scaler.fit(X_train)"
   ]
  },
  {
   "cell_type": "code",
   "execution_count": null,
   "metadata": {},
   "outputs": [],
   "source": [
    "# Scale the data\n",
    "X_train_scaled = X_scaler.transform(X_train)\n",
    "X_test_scaled = X_scaler.transform(X_test)"
   ]
  },
  {
   "cell_type": "code",
   "execution_count": null,
   "metadata": {},
   "outputs": [],
   "source": [
    "# Resample the training data with the BalancedRandomForestClassifier\n",
    "# YOUR CODE HERE\n",
    "from imblearn.ensemble import BalancedRandomForestClassifier\n",
    "brf = BalancedRandomForestClassifier(n_estimators=100, random_state=1)\n",
    "brf.fit(X_train, y_train)"
   ]
  },
  {
   "cell_type": "code",
   "execution_count": null,
   "metadata": {},
   "outputs": [],
   "source": [
    "y_pred = brf.predict(X_test)"
   ]
  },
  {
   "cell_type": "code",
   "execution_count": null,
   "metadata": {},
   "outputs": [],
   "source": [
    "# Calculated the balanced accuracy score\n",
    "from sklearn.metrics import balanced_accuracy_score\n",
    "balanced_accuracy_score(y_test, y_pred)"
   ]
  },
  {
   "cell_type": "code",
   "execution_count": null,
   "metadata": {},
   "outputs": [],
   "source": [
    "# Display the confusion matrix\n",
    "from sklearn.metrics import confusion_matrix\n",
    "confusion_matrix(y_test, y_pred)"
   ]
  },
  {
   "cell_type": "code",
   "execution_count": null,
   "metadata": {},
   "outputs": [],
   "source": [
    "# Print the imbalanced classification report\n",
    "from imblearn.metrics import classification_report_imbalanced\n",
    "print(classification_report_imbalanced(y_test, y_pred))"
   ]
  },
  {
   "cell_type": "code",
   "execution_count": null,
   "metadata": {},
   "outputs": [],
   "source": [
    "X.columns"
   ]
  },
  {
   "cell_type": "code",
   "execution_count": null,
   "metadata": {},
   "outputs": [],
   "source": [
    "# List the features sorted in descending order by feature importance\n",
    "sorted(zip(brf.feature_importances_, X_train.columns), reverse=True)"
   ]
  },
  {
   "cell_type": "code",
   "execution_count": null,
   "metadata": {},
   "outputs": [],
   "source": []
  }
 ],
 "metadata": {
  "kernelspec": {
   "display_name": "mlenv",
   "language": "python",
   "name": "mlenv"
  },
  "language_info": {
   "codemirror_mode": {
    "name": "ipython",
    "version": 3
   },
   "file_extension": ".py",
   "mimetype": "text/x-python",
   "name": "python",
   "nbconvert_exporter": "python",
   "pygments_lexer": "ipython3",
   "version": "3.7.9"
  }
 },
 "nbformat": 4,
 "nbformat_minor": 4
}
