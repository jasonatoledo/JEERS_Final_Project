# Import needed libraries

# Read the CSV and perform basic data cleaning
    # Load the data
    # file_path = 
    # Drop the null columns where all values are null
    # Drop the null rows
    # Convert data in any other format than numerical to numerical
    # Define the target column
    # Show dataframe

# Split the data into Training and Testing
    # Create features X = 
    # Create target y =
    # Check the balance of our target values (?)
    # Determine the shape of our training and testing sets

# Ensemble 

